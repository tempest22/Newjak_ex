{
  "cells": [
    {
      "cell_type": "markdown",
      "metadata": {
        "id": "view-in-github",
        "colab_type": "text"
      },
      "source": [
        "<a href=\"https://colab.research.google.com/github/tempest22/Newjak_ex/blob/main/nex00.ipynb\" target=\"_parent\"><img src=\"https://colab.research.google.com/assets/colab-badge.svg\" alt=\"Open In Colab\"/></a>"
      ]
    },
    {
      "cell_type": "markdown",
      "metadata": {
        "id": "7c_BVyyjyqnh"
      },
      "source": [
        "# 출력"
      ]
    },
    {
      "cell_type": "code",
      "execution_count": null,
      "metadata": {
        "colab": {
          "base_uri": "https://localhost:8080/"
        },
        "id": "rck8h1H8r0uv",
        "outputId": "55eae921-a46f-4e01-ff16-28b3a24d7dcc"
      },
      "outputs": [
        {
          "name": "stdout",
          "output_type": "stream",
          "text": [
            "Hello World!\n"
          ]
        }
      ],
      "source": [
        "print(\"Hello World!\")"
      ]
    },
    {
      "cell_type": "markdown",
      "metadata": {
        "id": "eVq3raXjzOQQ"
      },
      "source": [
        "# Numpy 샘플코드\n",
        "\n",
        "$ y = ax + b $"
      ]
    },
    {
      "cell_type": "code",
      "execution_count": null,
      "metadata": {
        "colab": {
          "base_uri": "https://localhost:8080/"
        },
        "id": "qeHBZOoxxdDp",
        "outputId": "3c913f73-a9af-495a-8f5d-c4f6a98f4437"
      },
      "outputs": [
        {
          "name": "stdout",
          "output_type": "stream",
          "text": [
            "x:\n",
            " [[1 2 3]\n",
            " [4 5 6]]\n"
          ]
        }
      ],
      "source": [
        "import numpy as np\n",
        "\n",
        "x = np.array([[1,2,3],[4,5,6]])\n",
        "print(\"x:\\n\",x)"
      ]
    },
    {
      "cell_type": "markdown",
      "metadata": {
        "id": "2qU00Fj_0WxX"
      },
      "source": [
        "![02 colab에 이미지 저장.PNG](data:image/png;base64,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)"
      ]
    },
    {
      "cell_type": "code",
      "execution_count": null,
      "metadata": {
        "colab": {
          "base_uri": "https://localhost:8080/"
        },
        "id": "RSeXMnDizNZB",
        "outputId": "2655c9e0-4bfb-4f73-aae8-06dce9f4e697"
      },
      "outputs": [
        {
          "name": "stdout",
          "output_type": "stream",
          "text": [
            "Numpy 배열 : \n",
            " [[1. 0. 0. 0.]\n",
            " [0. 1. 0. 0.]\n",
            " [0. 0. 1. 0.]\n",
            " [0. 0. 0. 1.]]\n"
          ]
        }
      ],
      "source": [
        "from scipy import sparse \n",
        "#lite 하게 임포트 하기 위해서 위와 같이 임포트 \n",
        "# scipy 라이브러리에서 sparse만 임포트\n",
        "# import scipy # scipy.sparse\n",
        "\n",
        "#대각선 원소는 1이고 나머지는 0인 2차원 numpy 배열을 만듦.\n",
        "\n",
        "eye = np.eye(4)\n",
        "print(\"Numpy 배열 : \\n\", eye)"
      ]
    },
    {
      "cell_type": "markdown",
      "metadata": {
        "id": "KAX_6nsE15u3"
      },
      "source": [
        "# SciPy 샘플코드"
      ]
    },
    {
      "cell_type": "code",
      "execution_count": null,
      "metadata": {
        "colab": {
          "base_uri": "https://localhost:8080/"
        },
        "id": "e3bsn7w_6iX6",
        "outputId": "8121bdfb-628e-4c24-922b-c04b58f8be61"
      },
      "outputs": [
        {
          "name": "stdout",
          "output_type": "stream",
          "text": [
            "Scipy의 CSR 행렬 : \n",
            "   (0, 0)\t1.0\n",
            "  (1, 1)\t1.0\n",
            "  (2, 2)\t1.0\n",
            "  (3, 3)\t1.0\n"
          ]
        }
      ],
      "source": [
        "# numpy 배열을 CSR 포맷의 Scipy 희소 행렬로 변환\n",
        "# 0 이 아닌 원소만 저장됨\n",
        "# (참고) CSR : Compressed sparse row 행의 인덱스를 압축하여 저장\n",
        "\n",
        "sparse_matrix = sparse.csr_matrix(eye)\n",
        "print(\"Scipy의 CSR 행렬 : \\n\", sparse_matrix)"
      ]
    },
    {
      "cell_type": "code",
      "execution_count": null,
      "metadata": {
        "colab": {
          "base_uri": "https://localhost:8080/"
        },
        "id": "KYkV6-aS7npi",
        "outputId": "d09003bb-0998-4c11-f7fe-b08803a2777d"
      },
      "outputs": [
        {
          "name": "stdout",
          "output_type": "stream",
          "text": [
            "COO 표현 : \n",
            "   (0, 0)\t1.0\n",
            "  (1, 1)\t1.0\n",
            "  (2, 2)\t1.0\n",
            "  (3, 3)\t1.0\n"
          ]
        }
      ],
      "source": [
        "data = np.ones(4)\n",
        "row_indices = np.arange(4)\n",
        "col_indices = np.arange(4)\n",
        "eye_coo = sparse.coo_matrix((data, (row_indices, col_indices)))\n",
        "print(\"COO 표현 : \\n\", eye_coo)"
      ]
    },
    {
      "cell_type": "markdown",
      "metadata": {
        "id": "LioNBBwR8Cxv"
      },
      "source": [
        "# matplotlib 샘플코드"
      ]
    },
    {
      "cell_type": "code",
      "execution_count": 15,
      "metadata": {
        "colab": {
          "base_uri": "https://localhost:8080/",
          "height": 265
        },
        "id": "W53t8sYZ79Mj",
        "outputId": "ce56e51b-867f-434f-c4cc-43c89c24092a"
      },
      "outputs": [
        {
          "output_type": "display_data",
          "data": {
            "text/plain": [
              "<Figure size 432x288 with 1 Axes>"
            ],
            "image/png": "[encoded data removed]"
          },
          "metadata": {
            "needs_background": "light"
          }
        }
      ],
      "source": [
        "import matplotlib.pyplot as plt\n",
        "\n",
        "# -10 에서 10까지 100개의 간격으로 나뉘어진 배열을 생성\n",
        "x = np.linspace(-10,10,100)\n",
        "# sin 함수를 사용하여 y배열을 생성\n",
        "y = np.sin(x)\n",
        "# plot함수는 한 배열의 값을 다른 배열에 대응해서 선 그래프를 그림\n",
        "plt.plot(x,y,  'go--')\n",
        "plt.show()"
      ]
    },
    {
      "cell_type": "markdown",
      "metadata": {
        "id": "_kwyQlVz8l0x"
      },
      "source": [
        "# pandas 샘플코드"
      ]
    },
    {
      "cell_type": "code",
      "execution_count": 17,
      "metadata": {
        "id": "eBaUcmdI8lTS",
        "colab": {
          "base_uri": "https://localhost:8080/",
          "height": 175
        },
        "outputId": "84031eae-2404-4e85-ea38-3191d5b00e26"
      },
      "outputs": [
        {
          "output_type": "display_data",
          "data": {
            "text/plain": [
              "    Name  Location  Age\n",
              "0   John  New York   24\n",
              "1   Anna     Paris   13\n",
              "2  Peter    Berlin   53\n",
              "3  Linda    London   33"
            ],
            "text/html": [
              "\n",
              "  <div id=\"df-4d4c7aa5-b67b-4965-a2ae-983c372bef47\">\n",
              "    <div class=\"colab-df-container\">\n",
              "      <div>\n",
              "<style scoped>\n",
              "    .dataframe tbody tr th:only-of-type {\n",
              "        vertical-align: middle;\n",
              "    }\n",
              "\n",
              "    .dataframe tbody tr th {\n",
              "        vertical-align: top;\n",
              "    }\n",
              "\n",
              "    .dataframe thead th {\n",
              "        text-align: right;\n",
              "    }\n",
              "</style>\n",
              "<table border=\"1\" class=\"dataframe\">\n",
              "  <thead>\n",
              "    <tr style=\"text-align: right;\">\n",
              "      <th></th>\n",
              "      <th>Name</th>\n",
              "      <th>Location</th>\n",
              "      <th>Age</th>\n",
              "    </tr>\n",
              "  </thead>\n",
              "  <tbody>\n",
              "    <tr>\n",
              "      <th>0</th>\n",
              "      <td>John</td>\n",
              "      <td>New York</td>\n",
              "      <td>24</td>\n",
              "    </tr>\n",
              "    <tr>\n",
              "      <th>1</th>\n",
              "      <td>Anna</td>\n",
              "      <td>Paris</td>\n",
              "      <td>13</td>\n",
              "    </tr>\n",
              "    <tr>\n",
              "      <th>2</th>\n",
              "      <td>Peter</td>\n",
              "      <td>Berlin</td>\n",
              "      <td>53</td>\n",
              "    </tr>\n",
              "    <tr>\n",
              "      <th>3</th>\n",
              "      <td>Linda</td>\n",
              "      <td>London</td>\n",
              "      <td>33</td>\n",
              "    </tr>\n",
              "  </tbody>\n",
              "</table>\n",
              "</div>\n",
              "      <button class=\"colab-df-convert\" onclick=\"convertToInteractive('df-4d4c7aa5-b67b-4965-a2ae-983c372bef47')\"\n",
              "              title=\"Convert this dataframe to an interactive table.\"\n",
              "              style=\"display:none;\">\n",
              "        \n",
              "  <svg xmlns=\"http://www.w3.org/2000/svg\" height=\"24px\"viewBox=\"0 0 24 24\"\n",
              "       width=\"24px\">\n",
              "    <path d=\"M0 0h24v24H0V0z\" fill=\"none\"/>\n",
              "    <path d=\"M18.56 5.44l.94 2.06.94-2.06 2.06-.94-2.06-.94-.94-2.06-.94 2.06-2.06.94zm-11 1L8.5 8.5l.94-2.06 2.06-.94-2.06-.94L8.5 2.5l-.94 2.06-2.06.94zm10 10l.94 2.06.94-2.06 2.06-.94-2.06-.94-.94-2.06-.94 2.06-2.06.94z\"/><path d=\"M17.41 7.96l-1.37-1.37c-.4-.4-.92-.59-1.43-.59-.52 0-1.04.2-1.43.59L10.3 9.45l-7.72 7.72c-.78.78-.78 2.05 0 2.83L4 21.41c.39.39.9.59 1.41.59.51 0 1.02-.2 1.41-.59l7.78-7.78 2.81-2.81c.8-.78.8-2.07 0-2.86zM5.41 20L4 18.59l7.72-7.72 1.47 1.35L5.41 20z\"/>\n",
              "  </svg>\n",
              "      </button>\n",
              "      \n",
              "  <style>\n",
              "    .colab-df-container {\n",
              "      display:flex;\n",
              "      flex-wrap:wrap;\n",
              "      gap: 12px;\n",
              "    }\n",
              "\n",
              "    .colab-df-convert {\n",
              "      background-color: #E8F0FE;\n",
              "      border: none;\n",
              "      border-radius: 50%;\n",
              "      cursor: pointer;\n",
              "      display: none;\n",
              "      fill: #1967D2;\n",
              "      height: 32px;\n",
              "      padding: 0 0 0 0;\n",
              "      width: 32px;\n",
              "    }\n",
              "\n",
              "    .colab-df-convert:hover {\n",
              "      background-color: #E2EBFA;\n",
              "      box-shadow: 0px 1px 2px rgba(60, 64, 67, 0.3), 0px 1px 3px 1px rgba(60, 64, 67, 0.15);\n",
              "      fill: #174EA6;\n",
              "    }\n",
              "\n",
              "    [theme=dark] .colab-df-convert {\n",
              "      background-color: #3B4455;\n",
              "      fill: #D2E3FC;\n",
              "    }\n",
              "\n",
              "    [theme=dark] .colab-df-convert:hover {\n",
              "      background-color: #434B5C;\n",
              "      box-shadow: 0px 1px 3px 1px rgba(0, 0, 0, 0.15);\n",
              "      filter: drop-shadow(0px 1px 2px rgba(0, 0, 0, 0.3));\n",
              "      fill: #FFFFFF;\n",
              "    }\n",
              "  </style>\n",
              "\n",
              "      <script>\n",
              "        const buttonEl =\n",
              "          document.querySelector('#df-4d4c7aa5-b67b-4965-a2ae-983c372bef47 button.colab-df-convert');\n",
              "        buttonEl.style.display =\n",
              "          google.colab.kernel.accessAllowed ? 'block' : 'none';\n",
              "\n",
              "        async function convertToInteractive(key) {\n",
              "          const element = document.querySelector('#df-4d4c7aa5-b67b-4965-a2ae-983c372bef47');\n",
              "          const dataTable =\n",
              "            await google.colab.kernel.invokeFunction('convertToInteractive',\n",
              "                                                     [key], {});\n",
              "          if (!dataTable) return;\n",
              "\n",
              "          const docLinkHtml = 'Like what you see? Visit the ' +\n",
              "            '<a target=\"_blank\" href=https://colab.research.google.com/notebooks/data_table.ipynb>data table notebook</a>'\n",
              "            + ' to learn more about interactive tables.';\n",
              "          element.innerHTML = '';\n",
              "          dataTable['output_type'] = 'display_data';\n",
              "          await google.colab.output.renderOutput(dataTable, element);\n",
              "          const docLink = document.createElement('div');\n",
              "          docLink.innerHTML = docLinkHtml;\n",
              "          element.appendChild(docLink);\n",
              "        }\n",
              "      </script>\n",
              "    </div>\n",
              "  </div>\n",
              "  "
            ]
          },
          "metadata": {}
        }
      ],
      "source": [
        "import pandas as pd\n",
        "\n",
        "# 회원 정보가 들어간 간단한 데이터셋을 생성\n",
        "data = {'Name' : [\"John\" , \"Anna\", \"Peter\", \"Linda\"],\n",
        "        'Location' : [\"New York\", \"Paris\", \"Berlin\", \"London\"],\n",
        "        'Age': [24,13,53,33]\n",
        "        }\n",
        "\n",
        "data_pandas = pd.DataFrame(data)\n",
        "\n",
        "#IPython.display 는 주피터 노트북에서 DataFrame을 미려하게 출력해줌\n",
        "from IPython.display import display\n",
        "display(data_pandas)\n",
        "#print(data_pandas)"
      ]
    },
    {
      "cell_type": "markdown",
      "source": [
        ""
      ],
      "metadata": {
        "id": "zYpvYHG6-dFw"
      }
    },
    {
      "cell_type": "code",
      "execution_count": 18,
      "metadata": {
        "id": "RhBRFVgT8gvL",
        "colab": {
          "base_uri": "https://localhost:8080/",
          "height": 112
        },
        "outputId": "29313cf0-c134-4c62-ccca-7e9bf53613da"
      },
      "outputs": [
        {
          "output_type": "display_data",
          "data": {
            "text/plain": [
              "    Name Location  Age\n",
              "2  Peter   Berlin   53\n",
              "3  Linda   London   33"
            ],
            "text/html": [
              "\n",
              "  <div id=\"df-3b63cef7-21e6-4408-8162-22b743bdfc07\">\n",
              "    <div class=\"colab-df-container\">\n",
              "      <div>\n",
              "<style scoped>\n",
              "    .dataframe tbody tr th:only-of-type {\n",
              "        vertical-align: middle;\n",
              "    }\n",
              "\n",
              "    .dataframe tbody tr th {\n",
              "        vertical-align: top;\n",
              "    }\n",
              "\n",
              "    .dataframe thead th {\n",
              "        text-align: right;\n",
              "    }\n",
              "</style>\n",
              "<table border=\"1\" class=\"dataframe\">\n",
              "  <thead>\n",
              "    <tr style=\"text-align: right;\">\n",
              "      <th></th>\n",
              "      <th>Name</th>\n",
              "      <th>Location</th>\n",
              "      <th>Age</th>\n",
              "    </tr>\n",
              "  </thead>\n",
              "  <tbody>\n",
              "    <tr>\n",
              "      <th>2</th>\n",
              "      <td>Peter</td>\n",
              "      <td>Berlin</td>\n",
              "      <td>53</td>\n",
              "    </tr>\n",
              "    <tr>\n",
              "      <th>3</th>\n",
              "      <td>Linda</td>\n",
              "      <td>London</td>\n",
              "      <td>33</td>\n",
              "    </tr>\n",
              "  </tbody>\n",
              "</table>\n",
              "</div>\n",
              "      <button class=\"colab-df-convert\" onclick=\"convertToInteractive('df-3b63cef7-21e6-4408-8162-22b743bdfc07')\"\n",
              "              title=\"Convert this dataframe to an interactive table.\"\n",
              "              style=\"display:none;\">\n",
              "        \n",
              "  <svg xmlns=\"http://www.w3.org/2000/svg\" height=\"24px\"viewBox=\"0 0 24 24\"\n",
              "       width=\"24px\">\n",
              "    <path d=\"M0 0h24v24H0V0z\" fill=\"none\"/>\n",
              "    <path d=\"M18.56 5.44l.94 2.06.94-2.06 2.06-.94-2.06-.94-.94-2.06-.94 2.06-2.06.94zm-11 1L8.5 8.5l.94-2.06 2.06-.94-2.06-.94L8.5 2.5l-.94 2.06-2.06.94zm10 10l.94 2.06.94-2.06 2.06-.94-2.06-.94-.94-2.06-.94 2.06-2.06.94z\"/><path d=\"M17.41 7.96l-1.37-1.37c-.4-.4-.92-.59-1.43-.59-.52 0-1.04.2-1.43.59L10.3 9.45l-7.72 7.72c-.78.78-.78 2.05 0 2.83L4 21.41c.39.39.9.59 1.41.59.51 0 1.02-.2 1.41-.59l7.78-7.78 2.81-2.81c.8-.78.8-2.07 0-2.86zM5.41 20L4 18.59l7.72-7.72 1.47 1.35L5.41 20z\"/>\n",
              "  </svg>\n",
              "      </button>\n",
              "      \n",
              "  <style>\n",
              "    .colab-df-container {\n",
              "      display:flex;\n",
              "      flex-wrap:wrap;\n",
              "      gap: 12px;\n",
              "    }\n",
              "\n",
              "    .colab-df-convert {\n",
              "      background-color: #E8F0FE;\n",
              "      border: none;\n",
              "      border-radius: 50%;\n",
              "      cursor: pointer;\n",
              "      display: none;\n",
              "      fill: #1967D2;\n",
              "      height: 32px;\n",
              "      padding: 0 0 0 0;\n",
              "      width: 32px;\n",
              "    }\n",
              "\n",
              "    .colab-df-convert:hover {\n",
              "      background-color: #E2EBFA;\n",
              "      box-shadow: 0px 1px 2px rgba(60, 64, 67, 0.3), 0px 1px 3px 1px rgba(60, 64, 67, 0.15);\n",
              "      fill: #174EA6;\n",
              "    }\n",
              "\n",
              "    [theme=dark] .colab-df-convert {\n",
              "      background-color: #3B4455;\n",
              "      fill: #D2E3FC;\n",
              "    }\n",
              "\n",
              "    [theme=dark] .colab-df-convert:hover {\n",
              "      background-color: #434B5C;\n",
              "      box-shadow: 0px 1px 3px 1px rgba(0, 0, 0, 0.15);\n",
              "      filter: drop-shadow(0px 1px 2px rgba(0, 0, 0, 0.3));\n",
              "      fill: #FFFFFF;\n",
              "    }\n",
              "  </style>\n",
              "\n",
              "      <script>\n",
              "        const buttonEl =\n",
              "          document.querySelector('#df-3b63cef7-21e6-4408-8162-22b743bdfc07 button.colab-df-convert');\n",
              "        buttonEl.style.display =\n",
              "          google.colab.kernel.accessAllowed ? 'block' : 'none';\n",
              "\n",
              "        async function convertToInteractive(key) {\n",
              "          const element = document.querySelector('#df-3b63cef7-21e6-4408-8162-22b743bdfc07');\n",
              "          const dataTable =\n",
              "            await google.colab.kernel.invokeFunction('convertToInteractive',\n",
              "                                                     [key], {});\n",
              "          if (!dataTable) return;\n",
              "\n",
              "          const docLinkHtml = 'Like what you see? Visit the ' +\n",
              "            '<a target=\"_blank\" href=https://colab.research.google.com/notebooks/data_table.ipynb>data table notebook</a>'\n",
              "            + ' to learn more about interactive tables.';\n",
              "          element.innerHTML = '';\n",
              "          dataTable['output_type'] = 'display_data';\n",
              "          await google.colab.output.renderOutput(dataTable, element);\n",
              "          const docLink = document.createElement('div');\n",
              "          docLink.innerHTML = docLinkHtml;\n",
              "          element.appendChild(docLink);\n",
              "        }\n",
              "      </script>\n",
              "    </div>\n",
              "  </div>\n",
              "  "
            ]
          },
          "metadata": {}
        }
      ],
      "source": [
        "# Age열의 값이 30 이상인 모든 행을 선택함\n",
        "display(data_pandas[data_pandas.Age > 30])"
      ]
    },
    {
      "cell_type": "code",
      "source": [
        "# 실습시 임포트하고 시작하자\n",
        "import numpy as np\n",
        "import matplotlib.pyplot as plot\n",
        "import pandas as pd\n",
        "from IPython.display import display"
      ],
      "metadata": {
        "id": "KFtLCKEx_q4q"
      },
      "execution_count": 21,
      "outputs": []
    },
    {
      "cell_type": "markdown",
      "source": [
        ""
      ],
      "metadata": {
        "id": "wiFkxxX1F6i2"
      }
    },
    {
      "cell_type": "code",
      "source": [
        ""
      ],
      "metadata": {
        "id": "8NBSxNSbF6u1"
      },
      "execution_count": null,
      "outputs": []
    }
  ],
  "metadata": {
    "colab": {
      "name": "nex00.ipynb",
      "provenance": [],
      "authorship_tag": "ABX9TyMV7JVRSpLNkfBWYp9CSa6I",
      "include_colab_link": true
    },
    "gpuClass": "standard",
    "kernelspec": {
      "display_name": "Python 3",
      "name": "python3"
    },
    "language_info": {
      "name": "python"
    }
  },
  "nbformat": 4,
  "nbformat_minor": 0
}